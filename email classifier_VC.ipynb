{
 "cells": [
  {
   "cell_type": "code",
   "execution_count": 9,
   "id": "f79be161-5fe4-4129-b68f-5c1837ebfacb",
   "metadata": {},
   "outputs": [
    {
     "name": "stdout",
     "output_type": "stream",
     "text": [
      "Accuracy: 0.9802690582959641\n",
      "Confusion Matrix:\n",
      " [[965   0]\n",
      " [ 22 128]]\n",
      "Classification Report:\n",
      "               precision    recall  f1-score   support\n",
      "\n",
      "           0       0.98      1.00      0.99       965\n",
      "           1       1.00      0.85      0.92       150\n",
      "\n",
      "    accuracy                           0.98      1115\n",
      "   macro avg       0.99      0.93      0.95      1115\n",
      "weighted avg       0.98      0.98      0.98      1115\n",
      "\n"
     ]
    },
    {
     "name": "stdin",
     "output_type": "stream",
     "text": [
      "Enter a message to check:\n",
      " Subject: Congratulations! You've won $1,000,000  Dear Winner,  Your email was randomly selected in the Global Email Lottery. You have won ONE MILLION DOLLARS!  To claim your prize, please reply with your full name, address, and phone number.  Act fast to receive your reward!  — Global Lottery Commission\n"
     ]
    },
    {
     "name": "stdout",
     "output_type": "stream",
     "text": [
      "Spam\n",
      "\n"
     ]
    }
   ],
   "source": [
    "import numpy as np\n",
    "import pandas as pd\n",
    "import matplotlib.pyplot as plt\n",
    "import re\n",
    "import string\n",
    "from sklearn.model_selection import train_test_split as tts\n",
    "from sklearn.feature_extraction.text import CountVectorizer as CV\n",
    "from sklearn.naive_bayes import MultinomialNB\n",
    "from sklearn.ensemble import RandomForestClassifier\n",
    "from sklearn.linear_model import LogisticRegression\n",
    "from sklearn.ensemble import VotingClassifier\n",
    "from sklearn.metrics import classification_report as cr\n",
    "from sklearn.metrics import confusion_matrix as cm\n",
    "from sklearn.metrics import accuracy_score as AS\n",
    "\n",
    "# Load and preprocess data\n",
    "df = pd.read_csv('email_spam.csv', encoding='latin1')\n",
    "df['label'] = df['label'].map({'ham': 0, 'spam': 1})\n",
    "\n",
    "def preProcessing(text):\n",
    "    text = text.lower()\n",
    "    text = re.sub(r'\\d+', '', text)\n",
    "    text = text.translate(str.maketrans('', '', string.punctuation))\n",
    "    text = text.strip()\n",
    "    return text\n",
    "\n",
    "df['message'] = df['message'].apply(preProcessing)\n",
    "\n",
    "# Feature extraction\n",
    "X = df['message']\n",
    "y = df['label']\n",
    "vectorizer = CV()\n",
    "X = vectorizer.fit_transform(X)\n",
    "\n",
    "# Train-test split\n",
    "Xtrain, Xtest, ytrain, ytest = tts(X, y, test_size=0.2, random_state=42)\n",
    "\n",
    "# Ensemble Voting Classifier\n",
    "nb = MultinomialNB()\n",
    "rf = RandomForestClassifier(n_estimators=100, random_state=42)\n",
    "lr = LogisticRegression(max_iter=1000)\n",
    "\n",
    "ensemble_model = VotingClassifier(estimators=[\n",
    "    ('nb', nb), ('rf', rf), ('lr', lr)\n",
    "], voting='hard')\n",
    "\n",
    "ensemble_model.fit(Xtrain, ytrain)\n",
    "\n",
    "# Evaluation\n",
    "pred = ensemble_model.predict(Xtest)\n",
    "print(\"Accuracy:\", AS(ytest, pred))\n",
    "print(\"Confusion Matrix:\\n\", cm(ytest, pred))\n",
    "print(\"Classification Report:\\n\", cr(ytest, pred))\n",
    "\n",
    "# Testing new input\n",
    "new_inp = input(\"Enter a message to check:\\n\")\n",
    "count = vectorizer.transform([new_inp])\n",
    "res = ensemble_model.predict(count)\n",
    "print(\"Spam\\n\" if res[0] == 1 else \"Ham\\n\")\n"
   ]
  },
  {
   "cell_type": "code",
   "execution_count": null,
   "id": "1c77a9df-c704-482d-8f88-ce77a9357cb4",
   "metadata": {},
   "outputs": [],
   "source": []
  }
 ],
 "metadata": {
  "kernelspec": {
   "display_name": "Python [conda env:base] *",
   "language": "python",
   "name": "conda-base-py"
  },
  "language_info": {
   "codemirror_mode": {
    "name": "ipython",
    "version": 3
   },
   "file_extension": ".py",
   "mimetype": "text/x-python",
   "name": "python",
   "nbconvert_exporter": "python",
   "pygments_lexer": "ipython3",
   "version": "3.11.7"
  }
 },
 "nbformat": 4,
 "nbformat_minor": 5
}
